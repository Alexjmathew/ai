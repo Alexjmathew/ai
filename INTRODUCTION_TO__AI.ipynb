{
  "nbformat": 4,
  "nbformat_minor": 0,
  "metadata": {
    "colab": {
      "provenance": []
    },
    "kernelspec": {
      "name": "python3",
      "display_name": "Python 3"
    },
    "language_info": {
      "name": "python"
    }
  },
  "cells": [
    {
      "cell_type": "markdown",
      "source": [
        "**Vaccum Problem**"
      ],
      "metadata": {
        "id": "KnNXlv1mYvuG"
      }
    },
    {
      "cell_type": "code",
      "execution_count": null,
      "metadata": {
        "colab": {
          "base_uri": "https://localhost:8080/"
        },
        "id": "4236DfniWGvv",
        "outputId": "48c94f8b-9f48-4eb9-aa73-43537113110c"
      },
      "outputs": [
        {
          "output_type": "stream",
          "name": "stdout",
          "text": [
            "Enter the status (1 for available, 0 for not available): 0\n",
            "Enter the status (1 for available, 0 for not available): 0\n",
            "Room a is not available\n",
            "Room b is not available\n",
            "Total cost is 0\n"
          ]
        }
      ],
      "source": [
        "def main():\n",
        "    rooms = {'a': 0, 'b': 0}\n",
        "    cost = 0\n",
        "    for room in rooms:\n",
        "        rooms[room] = int(input(\"Enter the status (1 for available, 0 for not available): \"))\n",
        "\n",
        "    for i in rooms:\n",
        "        if rooms[i] == 1:\n",
        "            print(f\"Room {i} is available\")\n",
        "            rooms[i] = 0\n",
        "            cost += 1\n",
        "        else:\n",
        "            print(f\"Room {i} is not available\")\n",
        "\n",
        "    print(\"Total cost is\", cost)\n",
        "\n",
        "main()\n"
      ]
    },
    {
      "cell_type": "markdown",
      "source": [
        "**BREADTH FIRST SEARCH**"
      ],
      "metadata": {
        "id": "oUaqIYbdZPfy"
      }
    },
    {
      "cell_type": "code",
      "source": [
        "vistied = []\n",
        "queue = []\n",
        "\n",
        "def bfs(graph, start_node, goal_node):\n",
        "    vistied.append(start_node)\n",
        "    queue.append(start_node)\n",
        "    while queue:\n",
        "        node = queue.pop(0)\n",
        "        for neighbour in graph[node]:\n",
        "            if neighbour not in vistied:\n",
        "                if node == goal_node:\n",
        "                    print(\"Goal node found\")\n",
        "                    return vistied\n",
        "                else:\n",
        "                    print(\"Goal node not found\")\n",
        "                    vistied.append(neighbour)\n",
        "                    queue.append(neighbour)\n",
        "                    cost = len(vistied)\n",
        "    return vistied\n",
        "\n",
        "graph = {\n",
        "    'A': ['B', 'C'],\n",
        "    'B': ['A', 'D', 'E'],\n",
        "    'C': ['A', 'F'],\n",
        "    'D': ['B'],\n",
        "    'E': ['B', 'F'],\n",
        "    'F': ['C', 'E']\n",
        "}\n",
        "\n",
        "start_node = input(\"Enter the start node: \")\n",
        "goal_node = input(\"Enter the goal node: \")\n",
        "\n",
        "A = bfs(graph, start_node, goal_node)\n",
        "print(A)"
      ],
      "metadata": {
        "colab": {
          "base_uri": "https://localhost:8080/"
        },
        "id": "U9HIjQuSY8gG",
        "outputId": "d4498151-0e4c-4042-ee60-4e4363b28943"
      },
      "execution_count": null,
      "outputs": [
        {
          "output_type": "stream",
          "name": "stdout",
          "text": [
            "Enter the start node: A\n",
            "Enter the goal node: F\n",
            "Goal node not found\n",
            "Goal node not found\n",
            "Goal node not found\n",
            "Goal node not found\n",
            "Goal node not found\n",
            "['A', 'B', 'C', 'D', 'E', 'F']\n"
          ]
        }
      ]
    },
    {
      "cell_type": "markdown",
      "source": [
        "**DFS**"
      ],
      "metadata": {
        "id": "I-1IwpoBjz5Y"
      }
    },
    {
      "cell_type": "code",
      "source": [
        "graph = {\n",
        "    '5': ['3', '7'],\n",
        "    '3': ['2', '4'],\n",
        "    '7': ['8'],\n",
        "    '2': [],\n",
        "    '4': ['8'],\n",
        "    '8': []\n",
        "}\n",
        "\n",
        "def dfs(graph, start, goal, visited=None):\n",
        "    if visited is None:\n",
        "        visited = []\n",
        "    visited.append(start)\n",
        "    if start == goal:\n",
        "        print(\"Goal is reached!\")\n",
        "        print(\"The path taken to reach the goal is:\", visited)\n",
        "        return True\n",
        "    for neighbor in graph[start]:\n",
        "        if neighbor not in visited:\n",
        "            if dfs(graph, neighbor, goal, visited):\n",
        "                return True\n",
        "    return False\n",
        "\n",
        "print(\"Depth-First Search\")\n",
        "if not dfs(graph, '5', '7'):\n",
        "    print(\"Goal has not been reached\")"
      ],
      "metadata": {
        "colab": {
          "base_uri": "https://localhost:8080/"
        },
        "id": "2SK1Xmi0jggY",
        "outputId": "f45484ba-6802-4898-eec8-110dd3da0315"
      },
      "execution_count": null,
      "outputs": [
        {
          "output_type": "stream",
          "name": "stdout",
          "text": [
            "Depth-First Search\n",
            "Goal is reached!\n",
            "The path taken to reach the goal is: ['5', '3', '2', '4', '8', '7']\n"
          ]
        }
      ]
    },
    {
      "cell_type": "markdown",
      "source": [
        "**BEST FS**"
      ],
      "metadata": {
        "id": "rtXVTpDG6SUZ"
      }
    },
    {
      "cell_type": "code",
      "source": [
        "SuccList = {\n",
        "    'Kochi': [['Thrissur', 200], ['Kottayam', 80], ['Alappuzha', 90]],\n",
        "    'Thrissur': [['Palakkad', 110], ['Kochi', 200], ['Malappuram', 170], ['Guruvayur', 45]],\n",
        "    'Palakkad': [['Thrissur', 110], ['Kozhikode', 150]],\n",
        "    'Kozhikode': [['Kannur', 90], ['Palakkad', 150], ['Kasargod', 300]],\n",
        "    'Kottayam': [['Kochi', 80], ['Idukki', 160]],\n",
        "    'Alappuzha': [['Kochi', 90], ['Pathanamthitta', 130]],\n",
        "    'Kannur': [['Kozhikode', 90], ['Kasargod', 100]]\n",
        "}\n",
        "Start = 'Kochi'\n",
        "Goal = 'Kasargod'\n",
        "Explored = []\n",
        "SUCCESS = True\n",
        "FAILURE = False\n",
        "State = FAILURE\n",
        "def GENCHILD(N):\n",
        "    if N in SuccList.keys():\n",
        "        return SuccList[N]\n",
        "    return []\n",
        "def GOALTEST(N):\n",
        "    return N == Goal\n",
        "def APPEND(L1, L2):\n",
        "    return list(L1) + list(L2)\n",
        "def SORT(L):\n",
        "    L.sort(key=lambda x: x[1])\n",
        "    return L\n",
        "def BestFirstSearch():\n",
        "    Frontier = [[Start, 0]]\n",
        "    global State\n",
        "    global Explored\n",
        "    while Frontier and State != SUCCESS:\n",
        "        print(\"\\nCurrent Frontier:\", Frontier)\n",
        "        SORT(Frontier)\n",
        "        N = Frontier.pop(0)\n",
        "        print(\"N =\", N)\n",
        "        if GOALTEST(N[0]):\n",
        "            State = SUCCESS\n",
        "            Explored = APPEND(Explored, [N])\n",
        "            print(\"EXPLORED =\", Explored)\n",
        "        else:\n",
        "            Explored = APPEND(Explored, [N])\n",
        "            print(\"EXPLORED =\", Explored)\n",
        "\n",
        "            CHILD = GENCHILD(N[0])\n",
        "            print(\"CHILD =\", CHILD)\n",
        "\n",
        "            CHILD = [child for child in CHILD if child[0] not in [exp[0] for exp in Explored]]\n",
        "            CHILD = [child for child in CHILD if child not in Frontier]\n",
        "\n",
        "            Frontier = APPEND(Frontier, CHILD)\n",
        "\n",
        "            print(\"Unsorted Frontier =\", Frontier)\n",
        "\n",
        "    return State\n",
        "\n",
        "result = BestFirstSearch()\n",
        "print(\"Explored nodes:\", Explored, \"Result:\", result)\n"
      ],
      "metadata": {
        "colab": {
          "base_uri": "https://localhost:8080/"
        },
        "id": "oRE3c7ps7qeY",
        "outputId": "b7fb1c9b-1e34-491f-8ae8-2ef99fbb29c9"
      },
      "execution_count": null,
      "outputs": [
        {
          "output_type": "stream",
          "name": "stdout",
          "text": [
            "\n",
            "Current Frontier: [['Kochi', 0]]\n",
            "N = ['Kochi', 0]\n",
            "EXPLORED = [['Kochi', 0]]\n",
            "CHILD = [['Thrissur', 200], ['Kottayam', 80], ['Alappuzha', 90]]\n",
            "Unsorted Frontier = [['Thrissur', 200], ['Kottayam', 80], ['Alappuzha', 90]]\n",
            "\n",
            "Current Frontier: [['Thrissur', 200], ['Kottayam', 80], ['Alappuzha', 90]]\n",
            "N = ['Kottayam', 80]\n",
            "EXPLORED = [['Kochi', 0], ['Kottayam', 80]]\n",
            "CHILD = [['Kochi', 80], ['Idukki', 160]]\n",
            "Unsorted Frontier = [['Alappuzha', 90], ['Thrissur', 200], ['Idukki', 160]]\n",
            "\n",
            "Current Frontier: [['Alappuzha', 90], ['Thrissur', 200], ['Idukki', 160]]\n",
            "N = ['Alappuzha', 90]\n",
            "EXPLORED = [['Kochi', 0], ['Kottayam', 80], ['Alappuzha', 90]]\n",
            "CHILD = [['Kochi', 90], ['Pathanamthitta', 130]]\n",
            "Unsorted Frontier = [['Idukki', 160], ['Thrissur', 200], ['Pathanamthitta', 130]]\n",
            "\n",
            "Current Frontier: [['Idukki', 160], ['Thrissur', 200], ['Pathanamthitta', 130]]\n",
            "N = ['Pathanamthitta', 130]\n",
            "EXPLORED = [['Kochi', 0], ['Kottayam', 80], ['Alappuzha', 90], ['Pathanamthitta', 130]]\n",
            "CHILD = []\n",
            "Unsorted Frontier = [['Idukki', 160], ['Thrissur', 200]]\n",
            "\n",
            "Current Frontier: [['Idukki', 160], ['Thrissur', 200]]\n",
            "N = ['Idukki', 160]\n",
            "EXPLORED = [['Kochi', 0], ['Kottayam', 80], ['Alappuzha', 90], ['Pathanamthitta', 130], ['Idukki', 160]]\n",
            "CHILD = []\n",
            "Unsorted Frontier = [['Thrissur', 200]]\n",
            "\n",
            "Current Frontier: [['Thrissur', 200]]\n",
            "N = ['Thrissur', 200]\n",
            "EXPLORED = [['Kochi', 0], ['Kottayam', 80], ['Alappuzha', 90], ['Pathanamthitta', 130], ['Idukki', 160], ['Thrissur', 200]]\n",
            "CHILD = [['Palakkad', 110], ['Kochi', 200], ['Malappuram', 170], ['Guruvayur', 45]]\n",
            "Unsorted Frontier = [['Palakkad', 110], ['Malappuram', 170], ['Guruvayur', 45]]\n",
            "\n",
            "Current Frontier: [['Palakkad', 110], ['Malappuram', 170], ['Guruvayur', 45]]\n",
            "N = ['Guruvayur', 45]\n",
            "EXPLORED = [['Kochi', 0], ['Kottayam', 80], ['Alappuzha', 90], ['Pathanamthitta', 130], ['Idukki', 160], ['Thrissur', 200], ['Guruvayur', 45]]\n",
            "CHILD = []\n",
            "Unsorted Frontier = [['Palakkad', 110], ['Malappuram', 170]]\n",
            "\n",
            "Current Frontier: [['Palakkad', 110], ['Malappuram', 170]]\n",
            "N = ['Palakkad', 110]\n",
            "EXPLORED = [['Kochi', 0], ['Kottayam', 80], ['Alappuzha', 90], ['Pathanamthitta', 130], ['Idukki', 160], ['Thrissur', 200], ['Guruvayur', 45], ['Palakkad', 110]]\n",
            "CHILD = [['Thrissur', 110], ['Kozhikode', 150]]\n",
            "Unsorted Frontier = [['Malappuram', 170], ['Kozhikode', 150]]\n",
            "\n",
            "Current Frontier: [['Malappuram', 170], ['Kozhikode', 150]]\n",
            "N = ['Kozhikode', 150]\n",
            "EXPLORED = [['Kochi', 0], ['Kottayam', 80], ['Alappuzha', 90], ['Pathanamthitta', 130], ['Idukki', 160], ['Thrissur', 200], ['Guruvayur', 45], ['Palakkad', 110], ['Kozhikode', 150]]\n",
            "CHILD = [['Kannur', 90], ['Palakkad', 150], ['Kasargod', 300]]\n",
            "Unsorted Frontier = [['Malappuram', 170], ['Kannur', 90], ['Kasargod', 300]]\n",
            "\n",
            "Current Frontier: [['Malappuram', 170], ['Kannur', 90], ['Kasargod', 300]]\n",
            "N = ['Kannur', 90]\n",
            "EXPLORED = [['Kochi', 0], ['Kottayam', 80], ['Alappuzha', 90], ['Pathanamthitta', 130], ['Idukki', 160], ['Thrissur', 200], ['Guruvayur', 45], ['Palakkad', 110], ['Kozhikode', 150], ['Kannur', 90]]\n",
            "CHILD = [['Kozhikode', 90], ['Kasargod', 100]]\n",
            "Unsorted Frontier = [['Malappuram', 170], ['Kasargod', 300], ['Kasargod', 100]]\n",
            "\n",
            "Current Frontier: [['Malappuram', 170], ['Kasargod', 300], ['Kasargod', 100]]\n",
            "N = ['Kasargod', 100]\n",
            "EXPLORED = [['Kochi', 0], ['Kottayam', 80], ['Alappuzha', 90], ['Pathanamthitta', 130], ['Idukki', 160], ['Thrissur', 200], ['Guruvayur', 45], ['Palakkad', 110], ['Kozhikode', 150], ['Kannur', 90], ['Kasargod', 100]]\n",
            "Explored nodes: [['Kochi', 0], ['Kottayam', 80], ['Alappuzha', 90], ['Pathanamthitta', 130], ['Idukki', 160], ['Thrissur', 200], ['Guruvayur', 45], ['Palakkad', 110], ['Kozhikode', 150], ['Kannur', 90], ['Kasargod', 100]] Result: True\n"
          ]
        }
      ]
    },
    {
      "cell_type": "markdown",
      "source": [
        "**A* Algorithm(8_PUZZLE)**"
      ],
      "metadata": {
        "id": "bhBjjF8gMA0U"
      }
    },
    {
      "cell_type": "code",
      "source": [
        "import numpy as np\n",
        "from copy import deepcopy\n",
        "\n",
        "def star_loop(step, idx1, idx2, closed):\n",
        "    val = []\n",
        "    swapped = []\n",
        "    ind_list = []\n",
        "    for i in range(idx1 - 1, idx1 + 2):\n",
        "        for j in range(idx2 - 1, idx2 + 2):\n",
        "            if [i, j] != closed and i >= 0 and j >= 0 and i <= 2 and j <= 2:\n",
        "                if [i, j] != [idx1, idx2] and abs(i - idx1) != abs(j - idx2):\n",
        "                    step2 = deepcopy(step)\n",
        "                    step2[idx1, idx2], step2[i, j] = step2[i, j], step2[idx1, idx2]\n",
        "                    swapped.append(step2)\n",
        "                    ind_list.append([i, j])\n",
        "    return swapped, ind_list\n",
        "\n",
        "initial = np.array([[2, 8, 3],\n",
        "                    [1, 6, 4],\n",
        "                    [7, 0, 5]])\n",
        "\n",
        "step = deepcopy(initial)\n",
        "final = np.array([[1, 2, 3],\n",
        "                  [8, 0, 4],\n",
        "                  [7, 6, 5]])\n",
        "\n",
        "init = np.where(initial == 0)\n",
        "idx1 = int(init[0])\n",
        "idx2 = int(init[1])\n",
        "\n",
        "g = 1\n",
        "closed = [idx1, idx2]\n",
        "\n",
        "while g < 10:\n",
        "    print(\"Current position of 0:\", idx1, idx2)\n",
        "    swapped, ind_list = star_loop(step, idx1, idx2, closed)\n",
        "    closed = [idx1, idx2]\n",
        "\n",
        "    h_list = []\n",
        "    for k in range(len(swapped)):\n",
        "        h = len(np.where(swapped[k] != final)[0])\n",
        "        h_list.append(g + h)\n",
        "\n",
        "    print(\"Heuristic list:\", h_list)\n",
        "\n",
        "    if h_list:\n",
        "        min_index = h_list.index(min(h_list))\n",
        "        step = swapped[min_index]\n",
        "        idx1 = ind_list[min_index][0]\n",
        "        idx2 = ind_list[min_index][1]\n",
        "\n",
        "        print(\"Next step:\\n\", step, \"\\nClosed:\", closed)\n",
        "\n",
        "        if (step == final).all():\n",
        "            print(\"Reached final state!\")\n",
        "            break\n",
        "\n",
        "    g += 1\n"
      ],
      "metadata": {
        "colab": {
          "base_uri": "https://localhost:8080/"
        },
        "id": "nEh8OzK_7y80",
        "outputId": "70257235-2be0-4027-f7ee-875125686c38"
      },
      "execution_count": null,
      "outputs": [
        {
          "output_type": "stream",
          "name": "stdout",
          "text": [
            "Current position of 0: 2 1\n",
            "Heuristic list: [4, 7, 7]\n",
            "Next step:\n",
            " [[2 8 3]\n",
            " [1 0 4]\n",
            " [7 6 5]] \n",
            "Closed: [2, 1]\n",
            "Current position of 0: 1 1\n",
            "Heuristic list: [6, 6, 7]\n",
            "Next step:\n",
            " [[2 0 3]\n",
            " [1 8 4]\n",
            " [7 6 5]] \n",
            "Closed: [1, 1]\n",
            "Current position of 0: 0 1\n",
            "Heuristic list: [6, 8]\n",
            "Next step:\n",
            " [[0 2 3]\n",
            " [1 8 4]\n",
            " [7 6 5]] \n",
            "Closed: [0, 1]\n",
            "Current position of 0: 0 0\n",
            "Heuristic list: [6]\n",
            "Next step:\n",
            " [[1 2 3]\n",
            " [0 8 4]\n",
            " [7 6 5]] \n",
            "Closed: [0, 0]\n",
            "Current position of 0: 1 0\n",
            "Heuristic list: [5, 8]\n",
            "Next step:\n",
            " [[1 2 3]\n",
            " [8 0 4]\n",
            " [7 6 5]] \n",
            "Closed: [1, 0]\n",
            "Reached final state!\n"
          ]
        },
        {
          "output_type": "stream",
          "name": "stderr",
          "text": [
            "<ipython-input-27-b395491c179e>:28: DeprecationWarning: Conversion of an array with ndim > 0 to a scalar is deprecated, and will error in future. Ensure you extract a single element from your array before performing this operation. (Deprecated NumPy 1.25.)\n",
            "  idx1 = int(init[0])\n",
            "<ipython-input-27-b395491c179e>:29: DeprecationWarning: Conversion of an array with ndim > 0 to a scalar is deprecated, and will error in future. Ensure you extract a single element from your array before performing this operation. (Deprecated NumPy 1.25.)\n",
            "  idx2 = int(init[1])\n"
          ]
        }
      ]
    },
    {
      "cell_type": "markdown",
      "source": [
        "**BACKTRACKING**"
      ],
      "metadata": {
        "id": "fsII5OGh2GJq"
      }
    },
    {
      "cell_type": "code",
      "source": [
        "domain_colors = ['Red', 'Blue', 'Green']\n",
        "variable_states = ['wa', 'nt', 'sa', 'q', 'nsw', 'v', 't']\n",
        "neighbors = {\n",
        "    'wa': ['nt', 'sa'],\n",
        "    'nt': ['wa', 'sa', 'q'],\n",
        "    'sa': ['wa', 'nt', 'q', 'nsw', 'v'],\n",
        "    'q': ['nt', 'sa', 'nsw'],\n",
        "    'nsw': ['q', 'sa', 'v'],\n",
        "    'v': ['sa', 'nsw'],\n",
        "    't': []\n",
        "}\n",
        "finalstateswithcolor = {}\n",
        "def getthecolor(state):\n",
        "    for color in domain_colors:\n",
        "        if assigncolor(state, color):\n",
        "            return color\n",
        "def assigncolor(state, color):\n",
        "    for neighbor in neighbors.get(state, []):\n",
        "        color_of_neighbor = finalstateswithcolor.get(neighbor)\n",
        "        if color_of_neighbor == color:\n",
        "            return False\n",
        "    return True\n",
        "def main():\n",
        "    sorted_states = sorted(neighbors.keys(), key=lambda state: len(neighbors[state]), reverse=True)\n",
        "    for state in sorted_states:\n",
        "        finalstateswithcolor[state] = getthecolor(state)\n",
        "    print(\"The states with colors are:\", finalstateswithcolor)\n",
        "main()"
      ],
      "metadata": {
        "id": "8ErbcgrWMQZR",
        "colab": {
          "base_uri": "https://localhost:8080/"
        },
        "outputId": "6a165a5b-9295-4373-d99f-2348e9f633db"
      },
      "execution_count": 1,
      "outputs": [
        {
          "output_type": "stream",
          "name": "stdout",
          "text": [
            "The states with colors are: {'sa': 'Red', 'nt': 'Blue', 'q': 'Green', 'nsw': 'Blue', 'wa': 'Green', 'v': 'Green', 't': 'Red'}\n"
          ]
        }
      ]
    },
    {
      "cell_type": "markdown",
      "source": [
        "### LOCAL SEARCH GRAPH COLORING\n"
      ],
      "metadata": {
        "id": "FzIsrhAWJ1KQ"
      }
    },
    {
      "cell_type": "code",
      "source": [
        "def isSafe(graph, color):\n",
        "    for i in range(4):\n",
        "        for j in range(i + 1, 4):\n",
        "            if graph[i][j] == 1 and color[i] == color[j]:\n",
        "                return False\n",
        "    return True\n",
        "def graphColoring(graph, m, i, color):\n",
        "    if i == 4:\n",
        "        if isSafe(graph, color):\n",
        "            printSolution(color)\n",
        "            return True\n",
        "        return False\n",
        "    for j in range(1, m + 1):\n",
        "        color[i] = j\n",
        "        if graphColoring(graph, m, i + 1, color):\n",
        "            return True\n",
        "        color[i] = 0\n",
        "    return False\n",
        "def printSolution(color):\n",
        "    print(\"Solution Exists: Following are the assigned colors:\")\n",
        "    for i in range(4):\n",
        "        print(color[i], end=\" \")\n",
        "    print()\n",
        "if __name__ == \"__main__\":\n",
        "    graph = [\n",
        "        [0, 1, 1, 1],\n",
        "        [1, 0, 1, 0],\n",
        "        [1, 1, 0, 1],\n",
        "        [1, 0, 1, 0]\n",
        "    ]\n",
        "    m = 3\n",
        "    color = [0 for i in range(4)]\n",
        "    if not graphColoring(graph, m, 0, color):\n",
        "        print(\"Solution does not exist.\")"
      ],
      "metadata": {
        "colab": {
          "base_uri": "https://localhost:8080/"
        },
        "id": "g0qTcGSo2MHJ",
        "outputId": "095818a0-16c3-4668-d759-5100b5244f79"
      },
      "execution_count": 2,
      "outputs": [
        {
          "output_type": "stream",
          "name": "stdout",
          "text": [
            "Solution Exists: Following are the assigned colors:\n",
            "1 2 3 2 \n"
          ]
        }
      ]
    },
    {
      "cell_type": "markdown",
      "source": [
        "**KNOWLEDGE REPRESENTATION**"
      ],
      "metadata": {
        "id": "I_X_4o3kQpgf"
      }
    },
    {
      "cell_type": "code",
      "source": [
        "def measles(a, b, c, d, e):\n",
        "    if a == 'y' and b == 'y' and c == 'y' and d == 'y' and e == 'y':\n",
        "        return \"measles\"\n",
        "    else:\n",
        "        return None\n",
        "\n",
        "def flu(a, b, c, d, e, f, g, h):\n",
        "    if a == 'y' and b == 'y' and c == 'y' and d == 'y' and e == 'y' and f == 'y' and g == 'y' and h == 'y':\n",
        "        return \"flu\"\n",
        "    else:\n",
        "        return None\n",
        "\n",
        "def cold(c, j, k, d, h):\n",
        "    if c == 'y' and j == 'y' and k == 'y' and d == 'y' and h == 'y':\n",
        "        return \"cold\"\n",
        "    else:\n",
        "        return None\n",
        "\n",
        "def chickenpox(a, h, g, b):\n",
        "    if a == 'y' and h == 'y' and g == 'y' and b == 'y':\n",
        "        return \"chickenpox\"\n",
        "    else:\n",
        "        return None\n",
        "\n",
        "def run_diagnosis():\n",
        "    name = input(\"Please enter your name: \")\n",
        "    a = input(\"Do you have fever? (y/n): \").lower()\n",
        "    b = input(\"Do you have rashes? (y/n): \").lower()\n",
        "    c = input(\"Do you have headache? (y/n): \").lower()\n",
        "    d = input(\"Do you have running nose? (y/n): \").lower()\n",
        "    e = input(\"Do you have conjunctivitis? (y/n): \").lower()\n",
        "    f = input(\"Do you have cough? (y/n): \").lower()\n",
        "    g = input(\"Do you have ache? (y/n): \").lower()\n",
        "    h = input(\"Do you have chills? (y/n): \").lower()\n",
        "    i = input(\"Do you have swollen glands? (y/n): \").lower()\n",
        "    j = input(\"Do you have sneezing? (y/n): \").lower()\n",
        "    k = input(\"Do you have sore throat? (y/n): \").lower()\n",
        "\n",
        "    diagnosis = []\n",
        "\n",
        "    result = measles(a, f, e, d, b)\n",
        "    if result:\n",
        "        diagnosis.append(result)\n",
        "\n",
        "    result = flu(a, c, g, e, h, k, f, d)\n",
        "    if result:\n",
        "        diagnosis.append(result)\n",
        "\n",
        "    result = cold(c, j, k, d, h)\n",
        "    if result:\n",
        "        diagnosis.append(result)\n",
        "\n",
        "    result = chickenpox(a, h, g, b)\n",
        "    if result:\n",
        "        diagnosis.append(result)\n",
        "\n",
        "    if len(diagnosis) > 0:\n",
        "        print(f\"{name}, based on the symptoms provided, you may have: {', '.join(diagnosis)}.\")\n",
        "    else:\n",
        "        print(\"No diagnosis could be made based on the given symptoms.\")\n",
        "\n",
        "run_diagnosis()\n"
      ],
      "metadata": {
        "colab": {
          "base_uri": "https://localhost:8080/"
        },
        "id": "9T-GYns0QJdm",
        "outputId": "084f3b24-a5f0-463b-e1f8-b9cc323d023d"
      },
      "execution_count": 1,
      "outputs": [
        {
          "output_type": "stream",
          "name": "stdout",
          "text": [
            "Please enter your name: MITHA\n",
            "Do you have fever? (y/n): Y\n",
            "Do you have rashes? (y/n): Y\n",
            "Do you have headache? (y/n): Y\n",
            "Do you have running nose? (y/n): Y\n",
            "Do you have conjunctivitis? (y/n): N\n",
            "Do you have cough? (y/n): N\n",
            "Do you have ache? (y/n): N\n",
            "Do you have chills? (y/n): N\n",
            "Do you have swollen glands? (y/n): N\n",
            "Do you have sneezing? (y/n): N\n",
            "Do you have sore throat? (y/n): N\n",
            "No diagnosis could be made based on the given symptoms.\n"
          ]
        }
      ]
    },
    {
      "cell_type": "markdown",
      "source": [
        "**TRAVELLING SALES MAN PROBLEM**"
      ],
      "metadata": {
        "id": "u32MsMcDTOuM"
      }
    },
    {
      "cell_type": "code",
      "source": [
        "from sys import maxsize\n",
        "from itertools import permutations\n",
        "V = 4\n",
        "graph = [[0, 10, 15, 20],\n",
        "         [10, 0, 35, 25],\n",
        "         [15, 35, 0, 30],\n",
        "         [20, 25, 30, 0]]\n",
        "s = 0\n",
        "def travellingSalesmanProblem(graph, s):\n",
        "    vertex = []\n",
        "    for i in range(V):\n",
        "        if i != s:\n",
        "            vertex.append(i)\n",
        "    min_path = maxsize\n",
        "    best_tour = None\n",
        "    next_permutation = permutations(vertex)\n",
        "    for perm in next_permutation:\n",
        "        current_pathweight = 0\n",
        "        k = s\n",
        "        for j in perm:\n",
        "            current_pathweight += graph[k][j]\n",
        "            k = j\n",
        "        current_pathweight += graph[k][s]\n",
        "        if current_pathweight < min_path:\n",
        "            min_path = current_pathweight\n",
        "            best_tour = [s] + list(perm) + [s]\n",
        "    return min_path, best_tour\n",
        "min_path, best_tour = travellingSalesmanProblem(graph, s)\n",
        "print('min_path =', min_path)\n",
        "print('best_tour =', best_tour)"
      ],
      "metadata": {
        "colab": {
          "base_uri": "https://localhost:8080/"
        },
        "id": "mMcR23j8RAj1",
        "outputId": "ee3d63e2-7819-463f-977d-39d458a759d3"
      },
      "execution_count": 2,
      "outputs": [
        {
          "output_type": "stream",
          "name": "stdout",
          "text": [
            "min_path = 80\n",
            "best_tour = [0, 1, 3, 2, 0]\n"
          ]
        }
      ]
    }
  ]
}